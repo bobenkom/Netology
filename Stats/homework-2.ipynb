{
 "cells": [
  {
   "cell_type": "code",
   "execution_count": 3,
   "metadata": {},
   "outputs": [
    {
     "name": "stdout",
     "output_type": "stream",
     "text": [
      "0.203427 -0.203686\n"
     ]
    }
   ],
   "source": [
    "import numpy as np\n",
    "\n",
    "success = 0\n",
    "income = 0\n",
    "trial = 1000000\n",
    "for n in range(trial):\n",
    "       number = np.random.randint(0, 1000)\n",
    "       if number == 777:\n",
    "              success += 1\n",
    "              income += 199\n",
    "       elif number == 999:\n",
    "              success += 1\n",
    "              income += 99\n",
    "       elif number == 555:\n",
    "              success += 1\n",
    "              income += 49\n",
    "       elif number == 333:\n",
    "              success += 1\n",
    "              income += 14\n",
    "       elif number == 111:\n",
    "              success += 1\n",
    "              income += 9\n",
    "       elif (number - 77) % 100 == 0:\n",
    "              success += 1\n",
    "              income += 4\n",
    "       elif (number - 7) % 10 == 0:\n",
    "              success += 1\n",
    "              income += 2\n",
    "       elif number % 100 == 0:\n",
    "              success += 1\n",
    "              income += 1\n",
    "       elif number % 10 == 0:\n",
    "              success += 1\n",
    "       else:\n",
    "              income -= 1\n",
    "\n",
    "p_result = success / trial\n",
    "average_income = income / trial\n",
    "\n",
    "print(p_result, average_income)"
   ]
  },
  {
   "cell_type": "markdown",
   "metadata": {},
   "source": [
    " Вероятность выиграша почти 20%, в среднем игрок проигрывает 20 копеек за игру"
   ]
  }
 ],
 "metadata": {
  "interpreter": {
   "hash": "09b9e927115a0dc7597c0e11e14a90cc892ae9e30ae082e013dacfdbc09d5018"
  },
  "kernelspec": {
   "display_name": "Python 3.8.5 64-bit ('venv': venv)",
   "name": "python3"
  },
  "language_info": {
   "codemirror_mode": {
    "name": "ipython",
    "version": 3
   },
   "file_extension": ".py",
   "mimetype": "text/x-python",
   "name": "python",
   "nbconvert_exporter": "python",
   "pygments_lexer": "ipython3",
   "version": "3.8.5"
  },
  "orig_nbformat": 4
 },
 "nbformat": 4,
 "nbformat_minor": 2
}
