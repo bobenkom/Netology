{
 "cells": [
  {
   "cell_type": "code",
   "execution_count": null,
   "metadata": {},
   "outputs": [],
   "source": [
    "import numpy as np\n",
    "\n",
    "success = 0\n",
    "income = 0\n",
    "trial = 1000000\n",
    "for n in range(trial):\n",
    "       number = np.random.randint(0, 1000)\n",
    "       if number == 777:\n",
    "              success += 1\n",
    "              income += 199\n",
    "       elif number == 999:\n",
    "              success += 1\n",
    "              income += 99\n",
    "       elif number == 333:\n",
    "              success += 1\n",
    "              income += 14\n",
    "       elif number == 111:\n",
    "              success += 1\n",
    "              income += 9\n",
    "       elif number - 77 % 100 == 0:\n",
    "              success += 1\n",
    "              income += 4\n",
    "       elif number - 7 % 10 == 0:\n",
    "              success += 1\n",
    "              income += 2\n",
    "       elif number % 100 == 0:\n",
    "              success += 1\n",
    "              income += 0\n",
    "       else:\n",
    "              income -= 1\n",
    "p_result = success / trial\n",
    "average_income = income / trial\n",
    "\n",
    "print(p_result, average_income)"
   ]
  },
  {
   "cell_type": "markdown",
   "metadata": {},
   "source": [
    " Вероятность выиграша чуть больше 1%, в среднем игрок проигрывает 65 копеек за игру"
   ]
  }
 ],
 "metadata": {
  "language_info": {
   "name": "python"
  },
  "orig_nbformat": 4
 },
 "nbformat": 4,
 "nbformat_minor": 2
}
