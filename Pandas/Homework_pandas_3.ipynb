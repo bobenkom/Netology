{
 "cells": [
  {
   "cell_type": "markdown",
   "metadata": {},
   "source": [
    "Задание 1\n",
    "\n",
    "Для датафрейма log из материалов занятия создайте столбец source_type по следующим правилам:\n",
    "\n",
    "если источник traffic_source равен yandex или google, то в source_type ставится organic\n",
    "для источников paid и email из России - ставим ad\n",
    "для источников paid и email не из России - ставим other\n",
    "все остальные варианты берем из traffic_source без изменений"
   ]
  },
  {
   "cell_type": "code",
   "execution_count": 2,
   "metadata": {},
   "outputs": [
    {
     "name": "stdout",
     "output_type": "stream",
     "text": [
      "        timestamp    visit_id                                 url   region  \\\n",
      "0      1549980692  e3b0c44298  https://host.ru/3c19b4ef7371864fa3   Russia   \n",
      "1      1549980704  6e340b9cff  https://host.ru/c8d9213a31839f9a3a   Russia   \n",
      "2      1549980715  96a296d224  https://host.ru/b8b58337d272ee7b15   Russia   \n",
      "3      1549980725  709e80c884  https://host.ru/b8b58337d272ee7b15   Russia   \n",
      "4      1549980736  df3f619804  https://host.ru/b8b58337d272ee7b15   Russia   \n",
      "...           ...         ...                                 ...      ...   \n",
      "18933  1550094288  57e5ba8560  https://host.ru/c2382eb3d6afc8d0f3  Belarus   \n",
      "18934  1550094296  6f9389ec1b  https://host.ru/f1eb4601740d627ab0   Russia   \n",
      "18935  1550094308  e8cf2eb8e6  https://host.ru/a5dda93e70318570c0  Belarus   \n",
      "18936  1550094314  79530b9a67  https://host.ru/6fda01ec57f23abc9e   Russia   \n",
      "18937  1550094323  b3b634f824  https://host.ru/39fa884393666d45fc   Russia   \n",
      "\n",
      "          user_id traffic_source source_type  \n",
      "0      b1613cc09f         yandex     organic  \n",
      "1      4c3ec14bee         direct      direct  \n",
      "2      a8c40697fb         yandex     organic  \n",
      "3      521ac1d6a0         yandex     organic  \n",
      "4      d7323c571c         yandex     organic  \n",
      "...           ...            ...         ...  \n",
      "18933  98b19810d0           paid       other  \n",
      "18934  32ebb20c13           paid          ad  \n",
      "18935  b85baa8c73         yandex     organic  \n",
      "18936  e154b06121           paid          ad  \n",
      "18937  7d27a58fb8          email          ad  \n",
      "\n",
      "[18938 rows x 7 columns]\n"
     ]
    }
   ],
   "source": [
    "import pandas as pd\n",
    "log = pd.read_csv('visit_log.csv', sep=';')\n",
    "log['source_type'] = log.loc[(log['traffic_source'] == 'paid') | (log['traffic_source'] == 'email') ].apply(lambda row: 'ad' if 'Russia' in row.region else 'other', axis=1)\n",
    "log.loc[log.traffic_source == 'yandex', 'source_type'] = 'organic'\n",
    "log.loc[log.traffic_source == 'google', 'source_type'] = 'organic'\n",
    "log.loc[log['source_type'].isnull(),'source_type'] = log['traffic_source']\n",
    "\n",
    "    \n",
    "print(log)\n"
   ]
  },
  {
   "cell_type": "markdown",
   "metadata": {},
   "source": [
    "Задание 2\n",
    "\n",
    "В файле URLs.txt содержатся url страниц новостного сайта. Вам необходимо отфильтровать его по адресам страниц с текстами новостей. Известно, что шаблон страницы новостей имеет внутри url следующую конструкцию: /, затем 8 цифр, затем дефис. Выполните следующие действия:\n",
    "\n",
    "Прочитайте содержимое файла с датафрейм\n",
    "Отфильтруйте страницы с текстом новостей, используя метод str.contains и регулярное выражение в соответствии с заданным шаблоном"
   ]
  },
  {
   "cell_type": "code",
   "execution_count": 7,
   "metadata": {},
   "outputs": [
    {
     "data": {
      "text/html": [
       "<div>\n",
       "<style scoped>\n",
       "    .dataframe tbody tr th:only-of-type {\n",
       "        vertical-align: middle;\n",
       "    }\n",
       "\n",
       "    .dataframe tbody tr th {\n",
       "        vertical-align: top;\n",
       "    }\n",
       "\n",
       "    .dataframe thead th {\n",
       "        text-align: right;\n",
       "    }\n",
       "</style>\n",
       "<table border=\"1\" class=\"dataframe\">\n",
       "  <thead>\n",
       "    <tr style=\"text-align: right;\">\n",
       "      <th></th>\n",
       "      <th>url</th>\n",
       "    </tr>\n",
       "  </thead>\n",
       "  <tbody>\n",
       "    <tr>\n",
       "      <th>3</th>\n",
       "      <td>/politics/36188461-s-marta-zhizn-rossiyan-susc...</td>\n",
       "    </tr>\n",
       "    <tr>\n",
       "      <th>4</th>\n",
       "      <td>/world/36007585-tramp-pridumal-kak-reshit-ukra...</td>\n",
       "    </tr>\n",
       "    <tr>\n",
       "      <th>5</th>\n",
       "      <td>/science/36157853-nasa-sobiraet-ekstrennuyu-pr...</td>\n",
       "    </tr>\n",
       "    <tr>\n",
       "      <th>6</th>\n",
       "      <td>/video/36001498-poyavilis-pervye-podrobnosti-g...</td>\n",
       "    </tr>\n",
       "    <tr>\n",
       "      <th>7</th>\n",
       "      <td>/world/36007585-tramp-pridumal-kak-reshit-ukra...</td>\n",
       "    </tr>\n",
       "    <tr>\n",
       "      <th>...</th>\n",
       "      <td>...</td>\n",
       "    </tr>\n",
       "    <tr>\n",
       "      <th>88</th>\n",
       "      <td>/cis/35984145-kreml-prokommentiroval-soobschen...</td>\n",
       "    </tr>\n",
       "    <tr>\n",
       "      <th>89</th>\n",
       "      <td>/video/36071019-olimpiyskie-obekty-rio-prevrat...</td>\n",
       "    </tr>\n",
       "    <tr>\n",
       "      <th>90</th>\n",
       "      <td>/science/36151301-nazvano-posledstvie-zloupotr...</td>\n",
       "    </tr>\n",
       "    <tr>\n",
       "      <th>91</th>\n",
       "      <td>/incidents/36027330-vospitatelnitsu-zatravili-...</td>\n",
       "    </tr>\n",
       "    <tr>\n",
       "      <th>92</th>\n",
       "      <td>/world/36103095-dominikanskih-zhurnalistov-ubi...</td>\n",
       "    </tr>\n",
       "  </tbody>\n",
       "</table>\n",
       "<p>84 rows × 1 columns</p>\n",
       "</div>"
      ],
      "text/plain": [
       "                                                  url\n",
       "3   /politics/36188461-s-marta-zhizn-rossiyan-susc...\n",
       "4   /world/36007585-tramp-pridumal-kak-reshit-ukra...\n",
       "5   /science/36157853-nasa-sobiraet-ekstrennuyu-pr...\n",
       "6   /video/36001498-poyavilis-pervye-podrobnosti-g...\n",
       "7   /world/36007585-tramp-pridumal-kak-reshit-ukra...\n",
       "..                                                ...\n",
       "88  /cis/35984145-kreml-prokommentiroval-soobschen...\n",
       "89  /video/36071019-olimpiyskie-obekty-rio-prevrat...\n",
       "90  /science/36151301-nazvano-posledstvie-zloupotr...\n",
       "91  /incidents/36027330-vospitatelnitsu-zatravili-...\n",
       "92  /world/36103095-dominikanskih-zhurnalistov-ubi...\n",
       "\n",
       "[84 rows x 1 columns]"
      ]
     },
     "execution_count": 7,
     "metadata": {},
     "output_type": "execute_result"
    }
   ],
   "source": [
    "data_url = pd.read_csv(\"URLs.txt\")\n",
    "data_url[data_url.url.str.contains('[/]\\d{8}[-]')]"
   ]
  },
  {
   "cell_type": "markdown",
   "metadata": {},
   "source": [
    "Задание 3\n",
    "\n",
    "Используйте файл с оценками фильмов ml-latest-small/ratings.csv. Посчитайте среднее время жизни пользователей, которые выставили более 100 оценок. Под временем жизни понимается разница между максимальным и минимальным значением столбца timestamp для данного значения userId."
   ]
  },
  {
   "cell_type": "code",
   "execution_count": 62,
   "metadata": {},
   "outputs": [
    {
     "name": "stdout",
     "output_type": "stream",
     "text": [
      "     userId    time_min    time_max  lifetime\n",
      "0         1  1260759108  1260759205        97\n",
      "1         2   835355395   835356246       851\n",
      "2         3  1298861589  1298932787     71198\n",
      "3         4   949778714   949982274    203560\n",
      "4         5  1163373044  1163375145      2101\n",
      "..      ...         ...         ...       ...\n",
      "666     667   847271220   847272234      1014\n",
      "667     668   993613196   993613478       282\n",
      "668     669  1015829081  1015829766       685\n",
      "669     670   938781328   940944033   2162705\n",
      "670     671  1063500751  1074784735  11283984\n",
      "\n",
      "[671 rows x 4 columns]\n"
     ]
    }
   ],
   "source": [
    "data_ratings = pd.read_csv('ratings.csv')\n",
    "ratings_all = data_ratings.pivot_table(index = 'userId', columns = 'rating', values = 'timestamp', aggfunc = 'count', fill_value = 0, margins = True)\n",
    "ratings_all_100 = ratings_all.loc[ratings_all['All'] > 100]\n",
    "data_1 = ratings_all_100.rename_axis('userId').reset_index()\n",
    "data_ratings.drop(columns=['movieId', 'rating'], axis=1, inplace=True)\n",
    "data_max = data_ratings.loc[data_ratings.groupby('userId')['timestamp'].idxmax()]\n",
    "data_max.rename(columns = {'timestamp': 'time_max'}, inplace=True)\n",
    "data_min = data_ratings.loc[data_ratings.groupby('userId')['timestamp'].idxmin()]\n",
    "data_min.rename(columns = {'timestamp': 'time_min'}, inplace=True)\n",
    "data_result = pd.merge(data_min, data_max, how='left', on='userId') \n",
    "data_result['lifetime'] = data_result.time_max - data_result.time_min\n",
    "print(data_result)\n"
   ]
  },
  {
   "cell_type": "markdown",
   "metadata": {},
   "source": [
    "Задание 4\n",
    "\n",
    "Дана статистика услуг перевозок клиентов компании по типам (см. файл “Python_13_join.ipynb” в разделе Материалы для лекции «Продвинутый pandas» ---- Ноутбуки к лекции «Продвинутый pandas»).\n",
    "Необходимо сформировать две таблицы:\n",
    "таблицу с тремя типами выручки для каждого client_id без указания адреса клиента\n",
    "аналогичную таблицу по типам выручки с указанием адреса клиента"
   ]
  },
  {
   "cell_type": "code",
   "execution_count": 65,
   "metadata": {},
   "outputs": [],
   "source": [
    "rzd = pd.DataFrame(\n",
    "    {\n",
    "        'client_id': [111, 112, 113, 114, 115],\n",
    "        'rzd_revenue': [1093, 2810, 10283, 5774, 981]\n",
    "    }\n",
    ")"
   ]
  },
  {
   "cell_type": "code",
   "execution_count": 66,
   "metadata": {},
   "outputs": [],
   "source": [
    "auto = pd.DataFrame(\n",
    "    {\n",
    "        'client_id': [113, 114, 115, 116, 117],\n",
    "        'auto_revenue': [57483, 83, 912, 4834, 98]\n",
    "    }\n",
    ")"
   ]
  },
  {
   "cell_type": "code",
   "execution_count": 67,
   "metadata": {},
   "outputs": [],
   "source": [
    "\n",
    "air = pd.DataFrame(\n",
    "    {\n",
    "        'client_id': [115, 116, 117, 118],\n",
    "        'air_revenue': [81, 4, 13, 173]\n",
    "    }\n",
    ")"
   ]
  },
  {
   "cell_type": "code",
   "execution_count": 68,
   "metadata": {},
   "outputs": [],
   "source": [
    "client_base = pd.DataFrame(\n",
    "    {\n",
    "        'client_id': [111, 112, 113, 114, 115, 116, 117, 118],\n",
    "        'address': ['Комсомольская 4', 'Энтузиастов 8а', 'Левобережная 1а', 'Мира 14', 'ЗЖБИиДК 1', \n",
    "                    'Строителей 18', 'Панфиловская 33', 'Мастеркова 4']\n",
    "    }\n",
    ")"
   ]
  },
  {
   "cell_type": "code",
   "execution_count": 86,
   "metadata": {},
   "outputs": [
    {
     "name": "stdout",
     "output_type": "stream",
     "text": [
      "   client_id          address  air_revenue  auto_revenue  rzd_revenue\n",
      "0        111  Комсомольская 4          NaN           NaN       1093.0\n",
      "1        112   Энтузиастов 8а          NaN           NaN       2810.0\n",
      "2        113  Левобережная 1а          NaN       57483.0      10283.0\n",
      "3        114          Мира 14          NaN          83.0       5774.0\n",
      "4        115        ЗЖБИиДК 1         81.0         912.0        981.0\n",
      "5        116    Строителей 18          4.0        4834.0          NaN\n",
      "6        117  Панфиловская 33         13.0          98.0          NaN\n",
      "7        118     Мастеркова 4        173.0           NaN          NaN\n",
      "   client_id  air_revenue  auto_revenue  rzd_revenue\n",
      "0        111          NaN           NaN       1093.0\n",
      "1        112          NaN           NaN       2810.0\n",
      "2        113          NaN       57483.0      10283.0\n",
      "3        114          NaN          83.0       5774.0\n",
      "4        115         81.0         912.0        981.0\n",
      "5        116          4.0        4834.0          NaN\n",
      "6        117         13.0          98.0          NaN\n",
      "7        118        173.0           NaN          NaN\n"
     ]
    }
   ],
   "source": [
    "data1 = client_base.merge(air, how='left', on='client_id').merge(auto, how='left', on='client_id').merge(rzd, how='left', on='client_id')\n",
    "data2 = data1.drop(columns=['address'], axis=1)\n",
    "\n",
    "print(data1)\n",
    "print(data2)"
   ]
  }
 ],
 "metadata": {
  "interpreter": {
   "hash": "be1e463dbea140b37e69fe96249d2cafcf30b8470bcb7ba3aabcea31d036332a"
  },
  "kernelspec": {
   "display_name": "Python 3.8.5 64-bit ('base': conda)",
   "name": "python3"
  },
  "language_info": {
   "codemirror_mode": {
    "name": "ipython",
    "version": 3
   },
   "file_extension": ".py",
   "mimetype": "text/x-python",
   "name": "python",
   "nbconvert_exporter": "python",
   "pygments_lexer": "ipython3",
   "version": "3.8.5"
  },
  "orig_nbformat": 4
 },
 "nbformat": 4,
 "nbformat_minor": 2
}
